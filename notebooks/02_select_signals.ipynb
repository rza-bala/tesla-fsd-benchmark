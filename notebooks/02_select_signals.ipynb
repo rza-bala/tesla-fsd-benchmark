{
 "cells": [
  {
   "cell_type": "code",
   "execution_count": 3,
   "id": "ebb3143d",
   "metadata": {},
   "outputs": [],
   "source": [
    "# --- Cell 1: Imports and Load Signal Profiles ---\n",
    "import pandas as pd\n",
    "import matplotlib.pyplot as plt\n",
    "from pathlib import Path\n",
    "\n",
    "PROFILES_PATH = Path(\"../data/catalog/parquet_signal_profiles.csv\")\n",
    "profiles = pd.read_csv(PROFILES_PATH)\n"
   ]
  },
  {
   "cell_type": "code",
   "execution_count": 4,
   "id": "76f81c70",
   "metadata": {},
   "outputs": [
    {
     "name": "stdout",
     "output_type": "stream",
     "text": [
      "Total signals: 1445\n"
     ]
    },
    {
     "data": {
      "text/html": [
       "<div>\n",
       "<style scoped>\n",
       "    .dataframe tbody tr th:only-of-type {\n",
       "        vertical-align: middle;\n",
       "    }\n",
       "\n",
       "    .dataframe tbody tr th {\n",
       "        vertical-align: top;\n",
       "    }\n",
       "\n",
       "    .dataframe thead th {\n",
       "        text-align: right;\n",
       "    }\n",
       "</style>\n",
       "<table border=\"1\" class=\"dataframe\">\n",
       "  <thead>\n",
       "    <tr style=\"text-align: right;\">\n",
       "      <th></th>\n",
       "      <th>file</th>\n",
       "      <th>signal</th>\n",
       "      <th>null_fraction</th>\n",
       "      <th>min</th>\n",
       "      <th>max</th>\n",
       "      <th>unique_count</th>\n",
       "      <th>enum_values</th>\n",
       "      <th>dtype</th>\n",
       "    </tr>\n",
       "  </thead>\n",
       "  <tbody>\n",
       "    <tr>\n",
       "      <th>0</th>\n",
       "      <td>00000001_can1_can.parquet</td>\n",
       "      <td>BC_headLightLStatus_can1_can</td>\n",
       "      <td>0.948667</td>\n",
       "      <td>1.0</td>\n",
       "      <td>1.0</td>\n",
       "      <td>1</td>\n",
       "      <td>NaN</td>\n",
       "      <td>float64</td>\n",
       "    </tr>\n",
       "    <tr>\n",
       "      <th>1</th>\n",
       "      <td>00000001_can1_can.parquet</td>\n",
       "      <td>BC_headLightRStatus_can1_can</td>\n",
       "      <td>0.948667</td>\n",
       "      <td>0.0</td>\n",
       "      <td>3.0</td>\n",
       "      <td>4</td>\n",
       "      <td>NaN</td>\n",
       "      <td>float64</td>\n",
       "    </tr>\n",
       "    <tr>\n",
       "      <th>2</th>\n",
       "      <td>00000001_can1_can.parquet</td>\n",
       "      <td>BC_indicatorLStatus_can1_can</td>\n",
       "      <td>0.948667</td>\n",
       "      <td>0.0</td>\n",
       "      <td>3.0</td>\n",
       "      <td>4</td>\n",
       "      <td>NaN</td>\n",
       "      <td>float64</td>\n",
       "    </tr>\n",
       "    <tr>\n",
       "      <th>3</th>\n",
       "      <td>00000001_can1_can.parquet</td>\n",
       "      <td>BC_indicatorRStatus_can1_can</td>\n",
       "      <td>0.948667</td>\n",
       "      <td>0.0</td>\n",
       "      <td>3.0</td>\n",
       "      <td>4</td>\n",
       "      <td>NaN</td>\n",
       "      <td>float64</td>\n",
       "    </tr>\n",
       "    <tr>\n",
       "      <th>4</th>\n",
       "      <td>00000001_can1_can.parquet</td>\n",
       "      <td>BOOT_STATE_can1_can</td>\n",
       "      <td>0.948667</td>\n",
       "      <td>0.0</td>\n",
       "      <td>0.0</td>\n",
       "      <td>1</td>\n",
       "      <td>NaN</td>\n",
       "      <td>float64</td>\n",
       "    </tr>\n",
       "    <tr>\n",
       "      <th>5</th>\n",
       "      <td>00000001_can1_can.parquet</td>\n",
       "      <td>CERRD_can1_can</td>\n",
       "      <td>0.948667</td>\n",
       "      <td>0.0</td>\n",
       "      <td>0.0</td>\n",
       "      <td>1</td>\n",
       "      <td>NaN</td>\n",
       "      <td>float64</td>\n",
       "    </tr>\n",
       "    <tr>\n",
       "      <th>6</th>\n",
       "      <td>00000001_can1_can.parquet</td>\n",
       "      <td>DAS_bodyControlsChecksum_can1_can</td>\n",
       "      <td>0.988965</td>\n",
       "      <td>1.0</td>\n",
       "      <td>243.0</td>\n",
       "      <td>38</td>\n",
       "      <td>NaN</td>\n",
       "      <td>float64</td>\n",
       "    </tr>\n",
       "    <tr>\n",
       "      <th>7</th>\n",
       "      <td>00000001_can1_can.parquet</td>\n",
       "      <td>DAS_bodyControlsCounter_can1_can</td>\n",
       "      <td>0.988965</td>\n",
       "      <td>0.0</td>\n",
       "      <td>15.0</td>\n",
       "      <td>16</td>\n",
       "      <td>NaN</td>\n",
       "      <td>float64</td>\n",
       "    </tr>\n",
       "    <tr>\n",
       "      <th>8</th>\n",
       "      <td>00000001_can1_can.parquet</td>\n",
       "      <td>DAS_hazardLightRequest_can1_can</td>\n",
       "      <td>0.988965</td>\n",
       "      <td>0.0</td>\n",
       "      <td>0.0</td>\n",
       "      <td>1</td>\n",
       "      <td>NaN</td>\n",
       "      <td>float64</td>\n",
       "    </tr>\n",
       "    <tr>\n",
       "      <th>9</th>\n",
       "      <td>00000001_can1_can.parquet</td>\n",
       "      <td>DAS_headlightRequest_can1_can</td>\n",
       "      <td>0.988965</td>\n",
       "      <td>1.0</td>\n",
       "      <td>1.0</td>\n",
       "      <td>1</td>\n",
       "      <td>NaN</td>\n",
       "      <td>float64</td>\n",
       "    </tr>\n",
       "  </tbody>\n",
       "</table>\n",
       "</div>"
      ],
      "text/plain": [
       "                        file                             signal  \\\n",
       "0  00000001_can1_can.parquet       BC_headLightLStatus_can1_can   \n",
       "1  00000001_can1_can.parquet       BC_headLightRStatus_can1_can   \n",
       "2  00000001_can1_can.parquet       BC_indicatorLStatus_can1_can   \n",
       "3  00000001_can1_can.parquet       BC_indicatorRStatus_can1_can   \n",
       "4  00000001_can1_can.parquet                BOOT_STATE_can1_can   \n",
       "5  00000001_can1_can.parquet                     CERRD_can1_can   \n",
       "6  00000001_can1_can.parquet  DAS_bodyControlsChecksum_can1_can   \n",
       "7  00000001_can1_can.parquet   DAS_bodyControlsCounter_can1_can   \n",
       "8  00000001_can1_can.parquet    DAS_hazardLightRequest_can1_can   \n",
       "9  00000001_can1_can.parquet      DAS_headlightRequest_can1_can   \n",
       "\n",
       "   null_fraction  min    max  unique_count  enum_values    dtype  \n",
       "0       0.948667  1.0    1.0             1          NaN  float64  \n",
       "1       0.948667  0.0    3.0             4          NaN  float64  \n",
       "2       0.948667  0.0    3.0             4          NaN  float64  \n",
       "3       0.948667  0.0    3.0             4          NaN  float64  \n",
       "4       0.948667  0.0    0.0             1          NaN  float64  \n",
       "5       0.948667  0.0    0.0             1          NaN  float64  \n",
       "6       0.988965  1.0  243.0            38          NaN  float64  \n",
       "7       0.988965  0.0   15.0            16          NaN  float64  \n",
       "8       0.988965  0.0    0.0             1          NaN  float64  \n",
       "9       0.988965  1.0    1.0             1          NaN  float64  "
      ]
     },
     "metadata": {},
     "output_type": "display_data"
    }
   ],
   "source": [
    "# --- Cell 2: Quick Overview ---\n",
    "print(\"Total signals:\", len(profiles))\n",
    "display(profiles.head(10))\n"
   ]
  },
  {
   "cell_type": "code",
   "execution_count": 5,
   "id": "b2eb14f4",
   "metadata": {},
   "outputs": [],
   "source": [
    "\n",
    "# --- Cell 3: Set Filtering Thresholds (STANDARD!) ---\n",
    "MAX_NULL_FRAC = 0.10      # e.g. keep only signals with <10% missing\n",
    "MIN_UNIQUE = 1           # ignore 0/1 unique-value (dead signals)\n",
    "MAX_ENUM_UNIQUE = 15      # anything with <=12 unique treated as enum\n"
   ]
  },
  {
   "cell_type": "code",
   "execution_count": 13,
   "id": "8b21aea8",
   "metadata": {},
   "outputs": [
    {
     "name": "stdout",
     "output_type": "stream",
     "text": [
      "Numeric signals (loose): 0\n"
     ]
    },
    {
     "data": {
      "text/html": [
       "<div>\n",
       "<style scoped>\n",
       "    .dataframe tbody tr th:only-of-type {\n",
       "        vertical-align: middle;\n",
       "    }\n",
       "\n",
       "    .dataframe tbody tr th {\n",
       "        vertical-align: top;\n",
       "    }\n",
       "\n",
       "    .dataframe thead th {\n",
       "        text-align: right;\n",
       "    }\n",
       "</style>\n",
       "<table border=\"1\" class=\"dataframe\">\n",
       "  <thead>\n",
       "    <tr style=\"text-align: right;\">\n",
       "      <th></th>\n",
       "      <th>file</th>\n",
       "      <th>signal</th>\n",
       "      <th>null_fraction</th>\n",
       "      <th>min</th>\n",
       "      <th>max</th>\n",
       "      <th>unique_count</th>\n",
       "      <th>enum_values</th>\n",
       "      <th>dtype</th>\n",
       "    </tr>\n",
       "  </thead>\n",
       "  <tbody>\n",
       "  </tbody>\n",
       "</table>\n",
       "</div>"
      ],
      "text/plain": [
       "Empty DataFrame\n",
       "Columns: [file, signal, null_fraction, min, max, unique_count, enum_values, dtype]\n",
       "Index: []"
      ]
     },
     "metadata": {},
     "output_type": "display_data"
    }
   ],
   "source": [
    "numeric_signals = profiles[\n",
    "    (profiles[\"dtype\"] == \"float64\") &\n",
    "    (profiles[\"null_fraction\"] <= MAX_NULL_FRAC)\n",
    "]\n",
    "print(\"Numeric signals (loose):\", len(numeric_signals))\n",
    "display(numeric_signals.head())\n"
   ]
  },
  {
   "cell_type": "code",
   "execution_count": 11,
   "id": "681fe8b7",
   "metadata": {},
   "outputs": [
    {
     "name": "stdout",
     "output_type": "stream",
     "text": [
      "['float64']\n"
     ]
    }
   ],
   "source": [
    "print(profiles[\"dtype\"].unique())\n"
   ]
  },
  {
   "cell_type": "code",
   "execution_count": 14,
   "id": "3ddfa89f",
   "metadata": {},
   "outputs": [
    {
     "name": "stdout",
     "output_type": "stream",
     "text": [
      "Enum signals (clean): 0\n"
     ]
    },
    {
     "data": {
      "text/html": [
       "<div>\n",
       "<style scoped>\n",
       "    .dataframe tbody tr th:only-of-type {\n",
       "        vertical-align: middle;\n",
       "    }\n",
       "\n",
       "    .dataframe tbody tr th {\n",
       "        vertical-align: top;\n",
       "    }\n",
       "\n",
       "    .dataframe thead th {\n",
       "        text-align: right;\n",
       "    }\n",
       "</style>\n",
       "<table border=\"1\" class=\"dataframe\">\n",
       "  <thead>\n",
       "    <tr style=\"text-align: right;\">\n",
       "      <th></th>\n",
       "      <th>signal</th>\n",
       "      <th>enum_values</th>\n",
       "    </tr>\n",
       "  </thead>\n",
       "  <tbody>\n",
       "  </tbody>\n",
       "</table>\n",
       "</div>"
      ],
      "text/plain": [
       "Empty DataFrame\n",
       "Columns: [signal, enum_values]\n",
       "Index: []"
      ]
     },
     "metadata": {},
     "output_type": "display_data"
    }
   ],
   "source": [
    "# --- Cell 5: Filter for Enum Candidates ---\n",
    "enum_signals = profiles[\n",
    "    (profiles[\"unique_count\"] <= MAX_ENUM_UNIQUE) &\n",
    "    (profiles[\"null_fraction\"] <= MAX_NULL_FRAC)\n",
    "]\n",
    "print(\"Enum signals (clean):\", len(enum_signals))\n",
    "display(enum_signals[[\"signal\", \"enum_values\"]].head())"
   ]
  },
  {
   "cell_type": "code",
   "execution_count": 15,
   "id": "6ae32cb8",
   "metadata": {},
   "outputs": [],
   "source": [
    "# --- Cell 6: Plot Histograms for a Few Numeric Signals ---\n",
    "for sig in numeric_signals[\"signal\"].unique()[:3]:\n",
    "    sample_file = profiles.loc[profiles[\"signal\"] == sig, \"file\"].iloc[0]\n",
    "    pq_path = Path(\"../data/interim\") / sample_file\n",
    "    df = pd.read_parquet(pq_path, columns=[\"time\", sig])\n",
    "    df[sig].hist(bins=50)\n",
    "    plt.title(sig)\n",
    "    plt.show()\n"
   ]
  },
  {
   "cell_type": "code",
   "execution_count": null,
   "id": "4a8e548c",
   "metadata": {},
   "outputs": [],
   "source": []
  }
 ],
 "metadata": {
  "kernelspec": {
   "display_name": ".venv",
   "language": "python",
   "name": "python3"
  },
  "language_info": {
   "codemirror_mode": {
    "name": "ipython",
    "version": 3
   },
   "file_extension": ".py",
   "mimetype": "text/x-python",
   "name": "python",
   "nbconvert_exporter": "python",
   "pygments_lexer": "ipython3",
   "version": "3.10.17"
  }
 },
 "nbformat": 4,
 "nbformat_minor": 5
}
